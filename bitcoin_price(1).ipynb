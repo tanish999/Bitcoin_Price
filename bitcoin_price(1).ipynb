{
  "nbformat": 4,
  "nbformat_minor": 0,
  "metadata": {
    "kernelspec": {
      "display_name": "Python 3",
      "language": "python",
      "name": "python3"
    },
    "language_info": {
      "codemirror_mode": {
        "name": "ipython",
        "version": 3
      },
      "file_extension": ".py",
      "mimetype": "text/x-python",
      "name": "python",
      "nbconvert_exporter": "python",
      "pygments_lexer": "ipython3",
      "version": "3.8.5"
    },
    "colab": {
      "name": "bitcoin_price.ipynb",
      "provenance": [],
      "collapsed_sections": [],
      "toc_visible": true
    }
  },
  "cells": [
    {
      "cell_type": "code",
      "metadata": {
        "id": "Qg6v6ifJHJ9S"
      },
      "source": [
        "import pandas as pd\n",
        "import numpy as np\n",
        "from datetime import datetime\n",
        "import matplotlib.pyplot as plt\n",
        "from statsmodels.tsa.statespace.sarimax import SARIMAX\n",
        "from statsmodels.graphics.tsaplots import plot_acf,plot_pacf \n",
        "from statsmodels.tsa.seasonal import seasonal_decompose \n",
        "from tensorflow.keras.models import Sequential\n",
        "from tensorflow.keras.layers import Dense, Dropout, LSTM\n",
        "from tensorflow.keras.callbacks import ModelCheckpoint, EarlyStopping\n"
      ],
      "execution_count": 122,
      "outputs": []
    },
    {
      "cell_type": "code",
      "metadata": {
        "colab": {
          "base_uri": "https://localhost:8080/"
        },
        "id": "3wGM8Qa6RvNV",
        "outputId": "f7d5143c-b704-47cd-acb7-7650ca766ff6"
      },
      "source": [
        "from google.colab import drive\n",
        "drive.mount('/content/drive')"
      ],
      "execution_count": 49,
      "outputs": [
        {
          "output_type": "stream",
          "text": [
            "Drive already mounted at /content/drive; to attempt to forcibly remount, call drive.mount(\"/content/drive\", force_remount=True).\n"
          ],
          "name": "stdout"
        }
      ]
    },
    {
      "cell_type": "code",
      "metadata": {
        "colab": {
          "base_uri": "https://localhost:8080/"
        },
        "id": "chQY962cMFtt",
        "outputId": "efdf6f78-d8bb-433d-fcaa-38bdbaab67ea"
      },
      "source": [
        "from google.colab import drive\n",
        "drive.mount('/content/drive',force_remount=False)"
      ],
      "execution_count": 50,
      "outputs": [
        {
          "output_type": "stream",
          "text": [
            "Drive already mounted at /content/drive; to attempt to forcibly remount, call drive.mount(\"/content/drive\", force_remount=True).\n"
          ],
          "name": "stdout"
        }
      ]
    },
    {
      "cell_type": "code",
      "metadata": {
        "id": "DxCK2sWgHJ9g"
      },
      "source": [
        "df= pd.read_csv(\"/content/drive/MyDrive/bitstampUSD_1-min_data_2012-01-01_to_2021-03-31.csv\")"
      ],
      "execution_count": 262,
      "outputs": []
    },
    {
      "cell_type": "code",
      "metadata": {
        "colab": {
          "base_uri": "https://localhost:8080/",
          "height": 206
        },
        "id": "vvWx1he_HJ9i",
        "outputId": "7f9371bf-220b-450a-fc7d-76c15135a69f"
      },
      "source": [
        "df.head()"
      ],
      "execution_count": 263,
      "outputs": [
        {
          "output_type": "execute_result",
          "data": {
            "text/html": [
              "<div>\n",
              "<style scoped>\n",
              "    .dataframe tbody tr th:only-of-type {\n",
              "        vertical-align: middle;\n",
              "    }\n",
              "\n",
              "    .dataframe tbody tr th {\n",
              "        vertical-align: top;\n",
              "    }\n",
              "\n",
              "    .dataframe thead th {\n",
              "        text-align: right;\n",
              "    }\n",
              "</style>\n",
              "<table border=\"1\" class=\"dataframe\">\n",
              "  <thead>\n",
              "    <tr style=\"text-align: right;\">\n",
              "      <th></th>\n",
              "      <th>Timestamp</th>\n",
              "      <th>Open</th>\n",
              "      <th>High</th>\n",
              "      <th>Low</th>\n",
              "      <th>Close</th>\n",
              "      <th>Volume_(BTC)</th>\n",
              "      <th>Volume_(Currency)</th>\n",
              "      <th>Weighted_Price</th>\n",
              "    </tr>\n",
              "  </thead>\n",
              "  <tbody>\n",
              "    <tr>\n",
              "      <th>0</th>\n",
              "      <td>1325317920</td>\n",
              "      <td>4.39</td>\n",
              "      <td>4.39</td>\n",
              "      <td>4.39</td>\n",
              "      <td>4.39</td>\n",
              "      <td>0.455581</td>\n",
              "      <td>2.0</td>\n",
              "      <td>4.39</td>\n",
              "    </tr>\n",
              "    <tr>\n",
              "      <th>1</th>\n",
              "      <td>1325317980</td>\n",
              "      <td>NaN</td>\n",
              "      <td>NaN</td>\n",
              "      <td>NaN</td>\n",
              "      <td>NaN</td>\n",
              "      <td>NaN</td>\n",
              "      <td>NaN</td>\n",
              "      <td>NaN</td>\n",
              "    </tr>\n",
              "    <tr>\n",
              "      <th>2</th>\n",
              "      <td>1325318040</td>\n",
              "      <td>NaN</td>\n",
              "      <td>NaN</td>\n",
              "      <td>NaN</td>\n",
              "      <td>NaN</td>\n",
              "      <td>NaN</td>\n",
              "      <td>NaN</td>\n",
              "      <td>NaN</td>\n",
              "    </tr>\n",
              "    <tr>\n",
              "      <th>3</th>\n",
              "      <td>1325318100</td>\n",
              "      <td>NaN</td>\n",
              "      <td>NaN</td>\n",
              "      <td>NaN</td>\n",
              "      <td>NaN</td>\n",
              "      <td>NaN</td>\n",
              "      <td>NaN</td>\n",
              "      <td>NaN</td>\n",
              "    </tr>\n",
              "    <tr>\n",
              "      <th>4</th>\n",
              "      <td>1325318160</td>\n",
              "      <td>NaN</td>\n",
              "      <td>NaN</td>\n",
              "      <td>NaN</td>\n",
              "      <td>NaN</td>\n",
              "      <td>NaN</td>\n",
              "      <td>NaN</td>\n",
              "      <td>NaN</td>\n",
              "    </tr>\n",
              "  </tbody>\n",
              "</table>\n",
              "</div>"
            ],
            "text/plain": [
              "    Timestamp  Open  High  ...  Volume_(BTC)  Volume_(Currency)  Weighted_Price\n",
              "0  1325317920  4.39  4.39  ...      0.455581                2.0            4.39\n",
              "1  1325317980   NaN   NaN  ...           NaN                NaN             NaN\n",
              "2  1325318040   NaN   NaN  ...           NaN                NaN             NaN\n",
              "3  1325318100   NaN   NaN  ...           NaN                NaN             NaN\n",
              "4  1325318160   NaN   NaN  ...           NaN                NaN             NaN\n",
              "\n",
              "[5 rows x 8 columns]"
            ]
          },
          "metadata": {
            "tags": []
          },
          "execution_count": 263
        }
      ]
    },
    {
      "cell_type": "code",
      "metadata": {
        "colab": {
          "base_uri": "https://localhost:8080/"
        },
        "id": "ExetsklUHJ9l",
        "outputId": "ac79dc16-a68a-4c6b-f851-380633d8f4f6"
      },
      "source": [
        "df.shape"
      ],
      "execution_count": 264,
      "outputs": [
        {
          "output_type": "execute_result",
          "data": {
            "text/plain": [
              "(4857377, 8)"
            ]
          },
          "metadata": {
            "tags": []
          },
          "execution_count": 264
        }
      ]
    },
    {
      "cell_type": "code",
      "metadata": {
        "colab": {
          "base_uri": "https://localhost:8080/"
        },
        "id": "8W-vjO2dHJ9m",
        "outputId": "255baf9b-bb71-4882-a34b-875ea18849ad"
      },
      "source": [
        "df.isnull().sum()"
      ],
      "execution_count": 265,
      "outputs": [
        {
          "output_type": "execute_result",
          "data": {
            "text/plain": [
              "Timestamp                  0\n",
              "Open                 1243608\n",
              "High                 1243608\n",
              "Low                  1243608\n",
              "Close                1243608\n",
              "Volume_(BTC)         1243608\n",
              "Volume_(Currency)    1243608\n",
              "Weighted_Price       1243608\n",
              "dtype: int64"
            ]
          },
          "metadata": {
            "tags": []
          },
          "execution_count": 265
        }
      ]
    },
    {
      "cell_type": "code",
      "metadata": {
        "id": "du_NtBMDMC_J"
      },
      "source": [
        ""
      ],
      "execution_count": 265,
      "outputs": []
    },
    {
      "cell_type": "code",
      "metadata": {
        "colab": {
          "base_uri": "https://localhost:8080/",
          "height": 206
        },
        "id": "wc8TFG8UHJ9n",
        "outputId": "6838dc19-0bbd-4730-adf8-04bf6f50e177"
      },
      "source": [
        "df['Timestamp'] = pd.to_datetime(df.Timestamp, unit='s')\n",
        "df.head()"
      ],
      "execution_count": 266,
      "outputs": [
        {
          "output_type": "execute_result",
          "data": {
            "text/html": [
              "<div>\n",
              "<style scoped>\n",
              "    .dataframe tbody tr th:only-of-type {\n",
              "        vertical-align: middle;\n",
              "    }\n",
              "\n",
              "    .dataframe tbody tr th {\n",
              "        vertical-align: top;\n",
              "    }\n",
              "\n",
              "    .dataframe thead th {\n",
              "        text-align: right;\n",
              "    }\n",
              "</style>\n",
              "<table border=\"1\" class=\"dataframe\">\n",
              "  <thead>\n",
              "    <tr style=\"text-align: right;\">\n",
              "      <th></th>\n",
              "      <th>Timestamp</th>\n",
              "      <th>Open</th>\n",
              "      <th>High</th>\n",
              "      <th>Low</th>\n",
              "      <th>Close</th>\n",
              "      <th>Volume_(BTC)</th>\n",
              "      <th>Volume_(Currency)</th>\n",
              "      <th>Weighted_Price</th>\n",
              "    </tr>\n",
              "  </thead>\n",
              "  <tbody>\n",
              "    <tr>\n",
              "      <th>0</th>\n",
              "      <td>2011-12-31 07:52:00</td>\n",
              "      <td>4.39</td>\n",
              "      <td>4.39</td>\n",
              "      <td>4.39</td>\n",
              "      <td>4.39</td>\n",
              "      <td>0.455581</td>\n",
              "      <td>2.0</td>\n",
              "      <td>4.39</td>\n",
              "    </tr>\n",
              "    <tr>\n",
              "      <th>1</th>\n",
              "      <td>2011-12-31 07:53:00</td>\n",
              "      <td>NaN</td>\n",
              "      <td>NaN</td>\n",
              "      <td>NaN</td>\n",
              "      <td>NaN</td>\n",
              "      <td>NaN</td>\n",
              "      <td>NaN</td>\n",
              "      <td>NaN</td>\n",
              "    </tr>\n",
              "    <tr>\n",
              "      <th>2</th>\n",
              "      <td>2011-12-31 07:54:00</td>\n",
              "      <td>NaN</td>\n",
              "      <td>NaN</td>\n",
              "      <td>NaN</td>\n",
              "      <td>NaN</td>\n",
              "      <td>NaN</td>\n",
              "      <td>NaN</td>\n",
              "      <td>NaN</td>\n",
              "    </tr>\n",
              "    <tr>\n",
              "      <th>3</th>\n",
              "      <td>2011-12-31 07:55:00</td>\n",
              "      <td>NaN</td>\n",
              "      <td>NaN</td>\n",
              "      <td>NaN</td>\n",
              "      <td>NaN</td>\n",
              "      <td>NaN</td>\n",
              "      <td>NaN</td>\n",
              "      <td>NaN</td>\n",
              "    </tr>\n",
              "    <tr>\n",
              "      <th>4</th>\n",
              "      <td>2011-12-31 07:56:00</td>\n",
              "      <td>NaN</td>\n",
              "      <td>NaN</td>\n",
              "      <td>NaN</td>\n",
              "      <td>NaN</td>\n",
              "      <td>NaN</td>\n",
              "      <td>NaN</td>\n",
              "      <td>NaN</td>\n",
              "    </tr>\n",
              "  </tbody>\n",
              "</table>\n",
              "</div>"
            ],
            "text/plain": [
              "            Timestamp  Open  ...  Volume_(Currency)  Weighted_Price\n",
              "0 2011-12-31 07:52:00  4.39  ...                2.0            4.39\n",
              "1 2011-12-31 07:53:00   NaN  ...                NaN             NaN\n",
              "2 2011-12-31 07:54:00   NaN  ...                NaN             NaN\n",
              "3 2011-12-31 07:55:00   NaN  ...                NaN             NaN\n",
              "4 2011-12-31 07:56:00   NaN  ...                NaN             NaN\n",
              "\n",
              "[5 rows x 8 columns]"
            ]
          },
          "metadata": {
            "tags": []
          },
          "execution_count": 266
        }
      ]
    },
    {
      "cell_type": "code",
      "metadata": {
        "id": "ou4DIMCyHJ9p"
      },
      "source": [
        ""
      ],
      "execution_count": 266,
      "outputs": []
    },
    {
      "cell_type": "code",
      "metadata": {
        "colab": {
          "base_uri": "https://localhost:8080/"
        },
        "id": "CE_BiDoxHJ9q",
        "outputId": "ac443d34-898a-482a-ee12-9247e9101ea5"
      },
      "source": [
        "df = df.set_index('Timestamp')\n",
        "df = df.resample(\"H\").mean()\n",
        "df.head()\n",
        "len(df)"
      ],
      "execution_count": 267,
      "outputs": [
        {
          "output_type": "execute_result",
          "data": {
            "text/plain": [
              "81066"
            ]
          },
          "metadata": {
            "tags": []
          },
          "execution_count": 267
        }
      ]
    },
    {
      "cell_type": "code",
      "metadata": {
        "colab": {
          "base_uri": "https://localhost:8080/"
        },
        "id": "q82khDlJHJ9t",
        "outputId": "bdf9fe2c-f396-42dd-8996-ac113c81a0f9"
      },
      "source": [
        "df.isnull().sum()"
      ],
      "execution_count": 268,
      "outputs": [
        {
          "output_type": "execute_result",
          "data": {
            "text/plain": [
              "Open                 3532\n",
              "High                 3532\n",
              "Low                  3532\n",
              "Close                3532\n",
              "Volume_(BTC)         3532\n",
              "Volume_(Currency)    3532\n",
              "Weighted_Price       3532\n",
              "dtype: int64"
            ]
          },
          "metadata": {
            "tags": []
          },
          "execution_count": 268
        }
      ]
    },
    {
      "cell_type": "code",
      "metadata": {
        "id": "RJFRqdfqHJ9x"
      },
      "source": [
        "df.ffill(inplace=True)"
      ],
      "execution_count": 269,
      "outputs": []
    },
    {
      "cell_type": "code",
      "metadata": {
        "colab": {
          "base_uri": "https://localhost:8080/"
        },
        "id": "eziZ3FQSHJ9y",
        "outputId": "0a770db0-a42e-4f93-eaec-8c0bf0268139"
      },
      "source": [
        "df.isnull().sum()"
      ],
      "execution_count": 270,
      "outputs": [
        {
          "output_type": "execute_result",
          "data": {
            "text/plain": [
              "Open                 0\n",
              "High                 0\n",
              "Low                  0\n",
              "Close                0\n",
              "Volume_(BTC)         0\n",
              "Volume_(Currency)    0\n",
              "Weighted_Price       0\n",
              "dtype: int64"
            ]
          },
          "metadata": {
            "tags": []
          },
          "execution_count": 270
        }
      ]
    },
    {
      "cell_type": "code",
      "metadata": {
        "id": "mAim135nHJ9y"
      },
      "source": [
        "data=df['Weighted_Price']\n",
        "data_y=df['Weighted_Price']\n",
        "data_m=df['Weighted_Price']\n",
        "data_d=df['Weighted_Price']"
      ],
      "execution_count": 366,
      "outputs": []
    },
    {
      "cell_type": "code",
      "metadata": {
        "colab": {
          "base_uri": "https://localhost:8080/"
        },
        "id": "w3Uel8nptaM4",
        "outputId": "225c67e7-64d1-475e-b6b3-0577332279cf"
      },
      "source": [
        "data"
      ],
      "execution_count": 367,
      "outputs": [
        {
          "output_type": "execute_result",
          "data": {
            "text/plain": [
              "Timestamp\n",
              "2011-12-31 07:00:00        4.390000\n",
              "2011-12-31 08:00:00        4.390000\n",
              "2011-12-31 09:00:00        4.390000\n",
              "2011-12-31 10:00:00        4.390000\n",
              "2011-12-31 11:00:00        4.390000\n",
              "                           ...     \n",
              "2021-03-30 20:00:00    58682.385127\n",
              "2021-03-30 21:00:00    58705.094588\n",
              "2021-03-30 22:00:00    58788.454429\n",
              "2021-03-30 23:00:00    58666.750127\n",
              "2021-03-31 00:00:00    58764.349363\n",
              "Freq: H, Name: Weighted_Price, Length: 81066, dtype: float64"
            ]
          },
          "metadata": {
            "tags": []
          },
          "execution_count": 367
        }
      ]
    },
    {
      "cell_type": "code",
      "metadata": {
        "id": "8x3faYDrHJ9z"
      },
      "source": [
        "data=pd.DataFrame(data)\n",
        "data_y=pd.DataFrame(data_y)\n",
        "data_y = data_y.resample(\"A\").mean()\n",
        "\n",
        "data_m = data_m.resample(\"M\").mean()\n",
        "\n",
        "data_m=pd.DataFrame(data_m)\n",
        "data_d=pd.DataFrame(data_d)\n",
        "data_d = data_d.resample(\"24H\").mean()"
      ],
      "execution_count": 368,
      "outputs": []
    },
    {
      "cell_type": "code",
      "metadata": {
        "colab": {
          "base_uri": "https://localhost:8080/",
          "height": 455
        },
        "id": "3FDN6Qg5yyZ-",
        "outputId": "166a00d3-8986-4eef-aae6-f74ce4e6992e"
      },
      "source": [
        "data"
      ],
      "execution_count": 405,
      "outputs": [
        {
          "output_type": "execute_result",
          "data": {
            "text/html": [
              "<div>\n",
              "<style scoped>\n",
              "    .dataframe tbody tr th:only-of-type {\n",
              "        vertical-align: middle;\n",
              "    }\n",
              "\n",
              "    .dataframe tbody tr th {\n",
              "        vertical-align: top;\n",
              "    }\n",
              "\n",
              "    .dataframe thead th {\n",
              "        text-align: right;\n",
              "    }\n",
              "</style>\n",
              "<table border=\"1\" class=\"dataframe\">\n",
              "  <thead>\n",
              "    <tr style=\"text-align: right;\">\n",
              "      <th></th>\n",
              "      <th>Weighted_Price</th>\n",
              "    </tr>\n",
              "    <tr>\n",
              "      <th>Timestamp</th>\n",
              "      <th></th>\n",
              "    </tr>\n",
              "  </thead>\n",
              "  <tbody>\n",
              "    <tr>\n",
              "      <th>2011-12-31 07:00:00</th>\n",
              "      <td>4.390000</td>\n",
              "    </tr>\n",
              "    <tr>\n",
              "      <th>2011-12-31 08:00:00</th>\n",
              "      <td>4.390000</td>\n",
              "    </tr>\n",
              "    <tr>\n",
              "      <th>2011-12-31 09:00:00</th>\n",
              "      <td>4.390000</td>\n",
              "    </tr>\n",
              "    <tr>\n",
              "      <th>2011-12-31 10:00:00</th>\n",
              "      <td>4.390000</td>\n",
              "    </tr>\n",
              "    <tr>\n",
              "      <th>2011-12-31 11:00:00</th>\n",
              "      <td>4.390000</td>\n",
              "    </tr>\n",
              "    <tr>\n",
              "      <th>...</th>\n",
              "      <td>...</td>\n",
              "    </tr>\n",
              "    <tr>\n",
              "      <th>2021-03-30 20:00:00</th>\n",
              "      <td>58682.385127</td>\n",
              "    </tr>\n",
              "    <tr>\n",
              "      <th>2021-03-30 21:00:00</th>\n",
              "      <td>58705.094588</td>\n",
              "    </tr>\n",
              "    <tr>\n",
              "      <th>2021-03-30 22:00:00</th>\n",
              "      <td>58788.454429</td>\n",
              "    </tr>\n",
              "    <tr>\n",
              "      <th>2021-03-30 23:00:00</th>\n",
              "      <td>58666.750127</td>\n",
              "    </tr>\n",
              "    <tr>\n",
              "      <th>2021-03-31 00:00:00</th>\n",
              "      <td>58764.349363</td>\n",
              "    </tr>\n",
              "  </tbody>\n",
              "</table>\n",
              "<p>81066 rows × 1 columns</p>\n",
              "</div>"
            ],
            "text/plain": [
              "                     Weighted_Price\n",
              "Timestamp                          \n",
              "2011-12-31 07:00:00        4.390000\n",
              "2011-12-31 08:00:00        4.390000\n",
              "2011-12-31 09:00:00        4.390000\n",
              "2011-12-31 10:00:00        4.390000\n",
              "2011-12-31 11:00:00        4.390000\n",
              "...                             ...\n",
              "2021-03-30 20:00:00    58682.385127\n",
              "2021-03-30 21:00:00    58705.094588\n",
              "2021-03-30 22:00:00    58788.454429\n",
              "2021-03-30 23:00:00    58666.750127\n",
              "2021-03-31 00:00:00    58764.349363\n",
              "\n",
              "[81066 rows x 1 columns]"
            ]
          },
          "metadata": {
            "tags": []
          },
          "execution_count": 405
        }
      ]
    },
    {
      "cell_type": "code",
      "metadata": {
        "colab": {
          "base_uri": "https://localhost:8080/",
          "height": 374
        },
        "id": "tkv8f9mrHJ90",
        "outputId": "4b85d4ae-2038-4e37-95f8-d1c8c56e2540"
      },
      "source": [
        "#hourly\n",
        "import seaborn as sns\n",
        "plt.figure(figsize=(18,6))\n",
        "# sns.lineplot(x=df.index, y=df['Daily minimum temperatures'].fillna(np.inf),  linestyle=\"-\")\n",
        "plt.plot(data.index, data[\"Weighted_Price\"], linestyle=\"-\")\n",
        "plt.xlabel=('Dates')\n",
        "plt.ylabel=('Price')\n",
        "plt.show();"
      ],
      "execution_count": 274,
      "outputs": [
        {
          "output_type": "display_data",
          "data": {
            "image/png": "[encoded data removed]",
            "text/plain": [
              "<Figure size 1296x432 with 1 Axes>"
            ]
          },
          "metadata": {
            "tags": [],
            "needs_background": "light"
          }
        }
      ]
    },
    {
      "cell_type": "code",
      "metadata": {
        "colab": {
          "base_uri": "https://localhost:8080/",
          "height": 374
        },
        "id": "do-pqEkpHJ91",
        "outputId": "392fe789-c461-4d68-aa92-d7e23a7aeefb"
      },
      "source": [
        "#yearly\n",
        "import seaborn as sns\n",
        "plt.figure(figsize=(8,6))\n",
        "# sns.lineplot(x=df.index, y=df['Daily minimum temperatures'].fillna(np.inf),  linestyle=\"-\")\n",
        "plt.plot(data_y.index, data_y[\"Weighted_Price\"], linestyle=\"-\")\n",
        "plt.xlabel=('Dates')\n",
        "plt.ylabel=('Price')\n",
        "plt.show();"
      ],
      "execution_count": 275,
      "outputs": [
        {
          "output_type": "display_data",
          "data": {
            "image/png": "[encoded data removed]",
            "text/plain": [
              "<Figure size 576x432 with 1 Axes>"
            ]
          },
          "metadata": {
            "tags": [],
            "needs_background": "light"
          }
        }
      ]
    },
    {
      "cell_type": "markdown",
      "metadata": {
        "id": "ByCooH5fHJ91"
      },
      "source": [
        "# ARIMA"
      ]
    },
    {
      "cell_type": "code",
      "metadata": {
        "colab": {
          "base_uri": "https://localhost:8080/",
          "height": 297
        },
        "id": "Imj4V97oHJ92",
        "outputId": "84e2913e-cbe9-48af-80e7-d63f3f83a758"
      },
      "source": [
        "a = seasonal_decompose(data_m[\"Weighted_Price\"])\n",
        "a.plot();"
      ],
      "execution_count": 276,
      "outputs": [
        {
          "output_type": "display_data",
          "data": {
            "image/png": "[encoded data removed]",
            "text/plain": [
              "<Figure size 432x288 with 4 Axes>"
            ]
          },
          "metadata": {
            "tags": [],
            "needs_background": "light"
          }
        }
      ]
    },
    {
      "cell_type": "code",
      "metadata": {
        "id": "n7m3yx0GHJ93"
      },
      "source": [
        "from scipy import stats\n",
        "import statsmodels.api as sm\n",
        "import warnings\n",
        "from itertools import product"
      ],
      "execution_count": 277,
      "outputs": []
    },
    {
      "cell_type": "code",
      "metadata": {
        "colab": {
          "base_uri": "https://localhost:8080/",
          "height": 538
        },
        "id": "kCAkuT4jHJ94",
        "outputId": "da2e9e49-96d6-4f26-be78-1876d0c3e009"
      },
      "source": [
        "decomposition = sm.tsa.seasonal_decompose(data_m.Weighted_Price)\n",
        "\n",
        "trend = decomposition.trend\n",
        "seasonal = decomposition.seasonal\n",
        "residual = decomposition.resid\n",
        "\n",
        "fig = plt.figure(figsize=(20,8))\n",
        "\n",
        "plt.subplot(411)\n",
        "plt.plot(data_m.Weighted_Price, label='Original')\n",
        "plt.legend(loc='best')\n",
        "plt.subplot(412)\n",
        "plt.plot(trend, label='Trend')\n",
        "plt.legend(loc='best')\n",
        "plt.subplot(413)\n",
        "plt.plot(seasonal,label='Seasonality')\n",
        "plt.legend(loc='best')\n",
        "plt.subplot(414)\n",
        "plt.plot(residual, label='Residuals')\n",
        "plt.legend(loc='best')\n",
        "\n",
        "fig.suptitle('Decomposition of Prices Data')\n",
        "plt.show()"
      ],
      "execution_count": 278,
      "outputs": [
        {
          "output_type": "display_data",
          "data": {
            "image/png": "[encoded data removed]",
            "text/plain": [
              "<Figure size 1440x576 with 4 Axes>"
            ]
          },
          "metadata": {
            "tags": [],
            "needs_background": "light"
          }
        }
      ]
    },
    {
      "cell_type": "code",
      "metadata": {
        "id": "KvWZUnG6HJ95",
        "colab": {
          "base_uri": "https://localhost:8080/"
        },
        "outputId": "0ab863a8-0570-4f91-89c3-690190674c1d"
      },
      "source": [
        "print(\"Dickey–Fuller test: p=%f\" % sm.tsa.stattools.adfuller(data_m.Weighted_Price)[1])"
      ],
      "execution_count": 279,
      "outputs": [
        {
          "output_type": "stream",
          "text": [
            "Dickey–Fuller test: p=0.998837\n"
          ],
          "name": "stdout"
        }
      ]
    },
    {
      "cell_type": "code",
      "metadata": {
        "id": "Y01B9Bd6HJ96",
        "colab": {
          "base_uri": "https://localhost:8080/",
          "height": 499
        },
        "outputId": "f5f893ad-df1e-428b-9efe-7e1df86639c4"
      },
      "source": [
        "from statsmodels.graphics.tsaplots import plot_acf\n",
        "from statsmodels.graphics.tsaplots import plot_pacf\n",
        "from matplotlib import pyplot\n",
        "pyplot.figure(figsize=(20,8))\n",
        "pyplot.subplot(211)\n",
        "plot_acf(data_m.Weighted_Price, ax=pyplot.gca(),lags=40)\n",
        "pyplot.subplot(212)\n",
        "plot_pacf(data_m.Weighted_Price, ax=pyplot.gca(), lags=50)\n",
        "pyplot.show()"
      ],
      "execution_count": 280,
      "outputs": [
        {
          "output_type": "display_data",
          "data": {
            "image/png": "[encoded data removed]",
            "text/plain": [
              "<Figure size 1440x576 with 2 Axes>"
            ]
          },
          "metadata": {
            "tags": [],
            "needs_background": "light"
          }
        }
      ]
    },
    {
      "cell_type": "code",
      "metadata": {
        "id": "xMIJ3XZmHJ96"
      },
      "source": [
        "Qs = range(0, 2)\n",
        "qs = range(0, 3)\n",
        "Ps = range(0, 3)\n",
        "ps = range(0, 3)\n",
        "D=1\n",
        "d=1\n",
        "parameters = product(ps, qs, Ps, Qs)\n",
        "parameters_list = list(parameters)\n",
        "len(parameters_list)\n",
        "\n",
        "# Model Selection\n",
        "results = []\n",
        "best_aic = float(\"inf\")\n",
        "warnings.filterwarnings('ignore')\n",
        "for param in parameters_list:\n",
        "    try:\n",
        "        model=sm.tsa.statespace.SARIMAX(data_m.Weighted_Price, order=(param[0], d, param[1]), \n",
        "                                        seasonal_order=(param[2], D, param[3], 12),enforce_stationarity=False,\n",
        "                                            enforce_invertibility=False).fit(disp=-1)\n",
        "    except ValueError:\n",
        "        #print('wrong parameters:', param)\n",
        "        continue\n",
        "    aic = model.aic\n",
        "    if aic < best_aic:\n",
        "        best_model = model\n",
        "        best_aic = aic\n",
        "        best_param = param\n",
        "    results.append([param, model.aic])"
      ],
      "execution_count": 281,
      "outputs": []
    },
    {
      "cell_type": "code",
      "metadata": {
        "id": "-6Jg38cxHJ97",
        "colab": {
          "base_uri": "https://localhost:8080/"
        },
        "outputId": "14c6b36d-3e78-4092-8446-80899b581b60"
      },
      "source": [
        "result_table = pd.DataFrame(results)\n",
        "result_table.columns = ['parameters', 'aic']\n",
        "print(result_table.sort_values(by = 'aic', ascending=True).head())\n",
        "print(best_model.summary())"
      ],
      "execution_count": 282,
      "outputs": [
        {
          "output_type": "stream",
          "text": [
            "      parameters          aic\n",
            "41  (2, 0, 2, 1)  1326.522882\n",
            "53  (2, 2, 2, 1)  1326.807611\n",
            "47  (2, 1, 2, 1)  1328.147893\n",
            "52  (2, 2, 2, 0)  1329.720366\n",
            "40  (2, 0, 2, 0)  1331.996705\n",
            "                                 Statespace Model Results                                 \n",
            "==========================================================================================\n",
            "Dep. Variable:                     Weighted_Price   No. Observations:                  112\n",
            "Model:             SARIMAX(2, 1, 0)x(2, 1, 1, 12)   Log Likelihood                -657.261\n",
            "Date:                            Fri, 14 May 2021   AIC                           1326.523\n",
            "Time:                                    16:44:40   BIC                           1340.266\n",
            "Sample:                                12-31-2011   HQIC                          1332.000\n",
            "                                     - 03-31-2021                                         \n",
            "Covariance Type:                              opg                                         \n",
            "==============================================================================\n",
            "                 coef    std err          z      P>|z|      [0.025      0.975]\n",
            "------------------------------------------------------------------------------\n",
            "ar.L1          0.7223      0.094      7.709      0.000       0.539       0.906\n",
            "ar.L2          0.0879      0.161      0.547      0.585      -0.227       0.403\n",
            "ar.S.L12       0.0309      0.148      0.209      0.834      -0.259       0.321\n",
            "ar.S.L24      -0.1492      0.208     -0.718      0.473      -0.556       0.258\n",
            "ma.S.L12      -0.9078      0.160     -5.691      0.000      -1.221      -0.595\n",
            "sigma2      3.842e+06   5.51e-08   6.98e+13      0.000    3.84e+06    3.84e+06\n",
            "===================================================================================\n",
            "Ljung-Box (Q):                       26.85   Jarque-Bera (JB):               220.81\n",
            "Prob(Q):                              0.94   Prob(JB):                         0.00\n",
            "Heteroskedasticity (H):            1795.14   Skew:                             0.84\n",
            "Prob(H) (two-sided):                  0.00   Kurtosis:                        11.35\n",
            "===================================================================================\n",
            "\n",
            "Warnings:\n",
            "[1] Covariance matrix calculated using the outer product of gradients (complex-step).\n",
            "[2] Covariance matrix is singular or near-singular, with condition number 1.13e+30. Standard errors may be unstable.\n"
          ],
          "name": "stdout"
        }
      ]
    },
    {
      "cell_type": "code",
      "metadata": {
        "id": "HOG5x0PNHJ99",
        "colab": {
          "base_uri": "https://localhost:8080/",
          "height": 531
        },
        "outputId": "23135f3c-8e7a-4452-ed8e-fc2d18718e1f"
      },
      "source": [
        "plt.figure(figsize=(15,7))\n",
        "plt.subplot(211)\n",
        "best_model.resid.plot()\n",
        "plt.ylabel(u'Residuals')\n",
        "ax = plt.subplot(212)\n",
        "sm.graphics.tsa.plot_acf(best_model.resid.values.squeeze(), lags=24, ax=ax)\n",
        "\n",
        "print(\"Dickey–Fuller test:: p=%f\" % sm.tsa.stattools.adfuller(best_model.resid[13:])[1])\n",
        "\n",
        "plt.tight_layout()\n",
        "plt.show()"
      ],
      "execution_count": 285,
      "outputs": [
        {
          "output_type": "stream",
          "text": [
            "Dickey–Fuller test:: p=0.000000\n"
          ],
          "name": "stdout"
        },
        {
          "output_type": "display_data",
          "data": {
            "image/png": "[encoded data removed]",
            "text/plain": [
              "<Figure size 1080x504 with 2 Axes>"
            ]
          },
          "metadata": {
            "tags": [],
            "needs_background": "light"
          }
        }
      ]
    },
    {
      "cell_type": "markdown",
      "metadata": {
        "id": "aa8zgKdmHJ99"
      },
      "source": [
        "# Predicting for future months"
      ]
    },
    {
      "cell_type": "code",
      "metadata": {
        "id": "Xu8RWTExHJ99",
        "colab": {
          "base_uri": "https://localhost:8080/",
          "height": 410
        },
        "outputId": "314beec0-6ed9-47e7-afc3-56fed2bd2370"
      },
      "source": [
        "\n",
        "df_month2 = data_m[['Weighted_Price']]\n",
        "date_list = [datetime(2021, 5, 31), datetime(2021, 6, 30), datetime(2021, 7, 31), datetime(2021, 8, 31), \n",
        "             datetime(2021, 9, 30), datetime(2021, 10, 31), datetime(2021, 11, 30), datetime(2021, 12, 31),\n",
        "             datetime(2022, 1, 31),datetime(2022, 2, 28), datetime(2022, 3, 31), datetime(2021, 4, 30),datetime(2022, 5, 31), datetime(2022, 6, 30), datetime(2022, 7, 31), datetime(2022, 8, 31), \n",
        "             datetime(2022, 9, 30), datetime(2022, 10, 31), datetime(2022, 11, 30), datetime(2022, 12, 31)]\n",
        "future = pd.DataFrame(index=date_list, columns= df_month2.columns)\n",
        "\n",
        "df_month2 = pd.concat([df_month2, future])\n",
        "df_month2['forecast'] = best_model.predict(start=0, end=300)\n",
        "plt.figure(figsize=(20,7))\n",
        "df_month2.Weighted_Price.plot()\n",
        "df_month2.forecast.plot(color='r', ls='--', label='Predicted Weighted_Price')\n",
        "plt.legend()\n",
        "plt.title('Bitcoin Prices Predicted vs Actuals, by months')\n",
        "plt.ylabel('Price')\n",
        "plt.show()"
      ],
      "execution_count": 286,
      "outputs": [
        {
          "output_type": "display_data",
          "data": {
            "image/png": "[encoded data removed]",
            "text/plain": [
              "<Figure size 1440x504 with 1 Axes>"
            ]
          },
          "metadata": {
            "tags": [],
            "needs_background": "light"
          }
        }
      ]
    },
    {
      "cell_type": "code",
      "metadata": {
        "id": "od5CWV55HJ9-"
      },
      "source": [
        "import matplotlib.pyplot as plt\n",
        "from importlib import reload\n",
        "plt=reload(plt)"
      ],
      "execution_count": 284,
      "outputs": []
    },
    {
      "cell_type": "markdown",
      "metadata": {
        "id": "8V3x8PIoHJ9-"
      },
      "source": [
        "# Splitting to Train-Test data"
      ]
    },
    {
      "cell_type": "code",
      "metadata": {
        "id": "mhVa2f5tHJ9_"
      },
      "source": [
        ""
      ],
      "execution_count": 329,
      "outputs": []
    },
    {
      "cell_type": "code",
      "metadata": {
        "id": "aqx_F1T9yBJf"
      },
      "source": [
        "train_data = data_m[:len(data_m)-8]\n",
        "test_data = data_m[len(data_m)-88:]"
      ],
      "execution_count": 406,
      "outputs": []
    },
    {
      "cell_type": "code",
      "metadata": {
        "colab": {
          "base_uri": "https://localhost:8080/",
          "height": 455
        },
        "id": "pnOmSimwHJ9_",
        "outputId": "4a20469b-7733-4c40-97d8-579fa9efcf84"
      },
      "source": [
        "train_data"
      ],
      "execution_count": 407,
      "outputs": [
        {
          "output_type": "execute_result",
          "data": {
            "text/html": [
              "<div>\n",
              "<style scoped>\n",
              "    .dataframe tbody tr th:only-of-type {\n",
              "        vertical-align: middle;\n",
              "    }\n",
              "\n",
              "    .dataframe tbody tr th {\n",
              "        vertical-align: top;\n",
              "    }\n",
              "\n",
              "    .dataframe thead th {\n",
              "        text-align: right;\n",
              "    }\n",
              "</style>\n",
              "<table border=\"1\" class=\"dataframe\">\n",
              "  <thead>\n",
              "    <tr style=\"text-align: right;\">\n",
              "      <th></th>\n",
              "      <th>Weighted_Price</th>\n",
              "    </tr>\n",
              "    <tr>\n",
              "      <th>Timestamp</th>\n",
              "      <th></th>\n",
              "    </tr>\n",
              "  </thead>\n",
              "  <tbody>\n",
              "    <tr>\n",
              "      <th>2011-12-31 07:00:00</th>\n",
              "      <td>4.390000</td>\n",
              "    </tr>\n",
              "    <tr>\n",
              "      <th>2011-12-31 08:00:00</th>\n",
              "      <td>4.390000</td>\n",
              "    </tr>\n",
              "    <tr>\n",
              "      <th>2011-12-31 09:00:00</th>\n",
              "      <td>4.390000</td>\n",
              "    </tr>\n",
              "    <tr>\n",
              "      <th>2011-12-31 10:00:00</th>\n",
              "      <td>4.390000</td>\n",
              "    </tr>\n",
              "    <tr>\n",
              "      <th>2011-12-31 11:00:00</th>\n",
              "      <td>4.390000</td>\n",
              "    </tr>\n",
              "    <tr>\n",
              "      <th>...</th>\n",
              "      <td>...</td>\n",
              "    </tr>\n",
              "    <tr>\n",
              "      <th>2021-03-30 08:00:00</th>\n",
              "      <td>57965.579590</td>\n",
              "    </tr>\n",
              "    <tr>\n",
              "      <th>2021-03-30 09:00:00</th>\n",
              "      <td>58308.291657</td>\n",
              "    </tr>\n",
              "    <tr>\n",
              "      <th>2021-03-30 10:00:00</th>\n",
              "      <td>59014.299672</td>\n",
              "    </tr>\n",
              "    <tr>\n",
              "      <th>2021-03-30 11:00:00</th>\n",
              "      <td>59017.817783</td>\n",
              "    </tr>\n",
              "    <tr>\n",
              "      <th>2021-03-30 12:00:00</th>\n",
              "      <td>59183.831140</td>\n",
              "    </tr>\n",
              "  </tbody>\n",
              "</table>\n",
              "<p>81054 rows × 1 columns</p>\n",
              "</div>"
            ],
            "text/plain": [
              "                     Weighted_Price\n",
              "Timestamp                          \n",
              "2011-12-31 07:00:00        4.390000\n",
              "2011-12-31 08:00:00        4.390000\n",
              "2011-12-31 09:00:00        4.390000\n",
              "2011-12-31 10:00:00        4.390000\n",
              "2011-12-31 11:00:00        4.390000\n",
              "...                             ...\n",
              "2021-03-30 08:00:00    57965.579590\n",
              "2021-03-30 09:00:00    58308.291657\n",
              "2021-03-30 10:00:00    59014.299672\n",
              "2021-03-30 11:00:00    59017.817783\n",
              "2021-03-30 12:00:00    59183.831140\n",
              "\n",
              "[81054 rows x 1 columns]"
            ]
          },
          "metadata": {
            "tags": []
          },
          "execution_count": 407
        }
      ]
    },
    {
      "cell_type": "code",
      "metadata": {
        "id": "aV2oZbq8HJ9_"
      },
      "source": [
        "Qs = range(0, 2)\n",
        "qs = range(0, 3)\n",
        "Ps = range(0, 3)\n",
        "ps = range(0, 3)\n",
        "D=1\n",
        "d=1\n",
        "parameters = product(ps, qs, Ps, Qs)\n",
        "parameters_list = list(parameters)\n",
        "len(parameters_list)\n",
        "\n",
        "# Model Selection\n",
        "results = []\n",
        "best_aic = float(\"inf\")\n",
        "warnings.filterwarnings('ignore')\n",
        "for param in parameters_list:\n",
        "    try:\n",
        "        model=sm.tsa.statespace.SARIMAX(train_data.Weighted_Price, order=(param[0], d, param[1]), \n",
        "                                        seasonal_order=(param[2], D, param[3], 12),enforce_stationarity=False,\n",
        "                                            enforce_invertibility=False).fit(disp=-1)\n",
        "    except ValueError:\n",
        "        #print('wrong parameters:', param)\n",
        "        continue\n",
        "    aic = model.aic\n",
        "    if aic < best_aic:\n",
        "        best_model = model\n",
        "        best_aic = aic\n",
        "        best_param = param\n",
        "    results.append([param, model.aic])"
      ],
      "execution_count": 342,
      "outputs": []
    },
    {
      "cell_type": "code",
      "metadata": {
        "id": "Um4bZZN9HJ-A",
        "colab": {
          "base_uri": "https://localhost:8080/"
        },
        "outputId": "c499a030-3ccb-480f-b3b5-f52c88537785"
      },
      "source": [
        "result_table = pd.DataFrame(results)\n",
        "result_table.columns = ['parameters', 'aic']\n",
        "print(result_table.sort_values(by = 'aic', ascending=True).head())\n",
        "print(best_model.summary())"
      ],
      "execution_count": 343,
      "outputs": [
        {
          "output_type": "stream",
          "text": [
            "      parameters          aic\n",
            "40  (2, 0, 2, 0)  1052.916986\n",
            "41  (2, 0, 2, 1)  1054.365771\n",
            "46  (2, 1, 2, 0)  1054.736881\n",
            "47  (2, 1, 2, 1)  1056.075069\n",
            "52  (2, 2, 2, 0)  1056.367207\n",
            "                                 Statespace Model Results                                 \n",
            "==========================================================================================\n",
            "Dep. Variable:                     Weighted_Price   No. Observations:                  100\n",
            "Model:             SARIMAX(2, 1, 0)x(2, 1, 0, 12)   Log Likelihood                -521.458\n",
            "Date:                            Fri, 14 May 2021   AIC                           1052.917\n",
            "Time:                                    16:58:05   BIC                           1063.471\n",
            "Sample:                                12-31-2011   HQIC                          1057.053\n",
            "                                     - 03-31-2020                                         \n",
            "Covariance Type:                              opg                                         \n",
            "==============================================================================\n",
            "                 coef    std err          z      P>|z|      [0.025      0.975]\n",
            "------------------------------------------------------------------------------\n",
            "ar.L1          0.3146      0.065      4.858      0.000       0.188       0.442\n",
            "ar.L2         -0.1714      0.108     -1.587      0.113      -0.383       0.040\n",
            "ar.S.L12      -1.2461      0.351     -3.547      0.000      -1.935      -0.558\n",
            "ar.S.L24      -1.5258      0.653     -2.337      0.019      -2.805      -0.246\n",
            "sigma2      1.558e+06   1.14e+05     13.687      0.000    1.34e+06    1.78e+06\n",
            "===================================================================================\n",
            "Ljung-Box (Q):                       19.25   Jarque-Bera (JB):               369.09\n",
            "Prob(Q):                              1.00   Prob(JB):                         0.00\n",
            "Heteroskedasticity (H):             142.10   Skew:                             1.74\n",
            "Prob(H) (two-sided):                  0.00   Kurtosis:                        14.54\n",
            "===================================================================================\n",
            "\n",
            "Warnings:\n",
            "[1] Covariance matrix calculated using the outer product of gradients (complex-step).\n"
          ],
          "name": "stdout"
        }
      ]
    },
    {
      "cell_type": "code",
      "metadata": {
        "id": "eN1DDQJbHJ-B",
        "colab": {
          "base_uri": "https://localhost:8080/"
        },
        "outputId": "61b38b07-8378-42b2-db42-05f8830a1dfd"
      },
      "source": [
        "arima_pred = best_model.predict(start = len(train_data), end = len(data_m)-1, typ=\"levels\").rename(\"ARIMA Predictions\")\n",
        "arima_pred"
      ],
      "execution_count": 344,
      "outputs": [
        {
          "output_type": "execute_result",
          "data": {
            "text/plain": [
              "2020-04-30     6116.373796\n",
              "2020-05-31     6697.373561\n",
              "2020-06-30     7989.216775\n",
              "2020-07-31     7423.902378\n",
              "2020-08-31     9558.067508\n",
              "2020-09-30    10166.239374\n",
              "2020-10-31    12395.067695\n",
              "2020-11-30    16461.161468\n",
              "2020-12-31    28024.258368\n",
              "2021-01-31    24790.956936\n",
              "2021-02-28    19121.394292\n",
              "2021-03-31    19159.369346\n",
              "Freq: M, Name: ARIMA Predictions, dtype: float64"
            ]
          },
          "metadata": {
            "tags": []
          },
          "execution_count": 344
        }
      ]
    },
    {
      "cell_type": "code",
      "metadata": {
        "id": "V_WhQegPHJ-B",
        "colab": {
          "base_uri": "https://localhost:8080/",
          "height": 345
        },
        "outputId": "b936fc50-61f8-4bf4-8302-1b4df20bde38"
      },
      "source": [
        "test_data['Weighted_Price'].plot(figsize = (16,5), legend=True)\n",
        "arima_pred.plot(legend = True);"
      ],
      "execution_count": 345,
      "outputs": [
        {
          "output_type": "display_data",
          "data": {
            "image/png": "[encoded data removed]",
            "text/plain": [
              "<Figure size 1152x360 with 1 Axes>"
            ]
          },
          "metadata": {
            "tags": [],
            "needs_background": "light"
          }
        }
      ]
    },
    {
      "cell_type": "code",
      "metadata": {
        "id": "GxNGE3MZX-SJ"
      },
      "source": [
        "test_data['ARIMA_Predictions'] = arima_pred"
      ],
      "execution_count": 84,
      "outputs": []
    },
    {
      "cell_type": "markdown",
      "metadata": {
        "id": "Lb8TnTJ5Z1kW"
      },
      "source": [
        "LSTM"
      ]
    },
    {
      "cell_type": "code",
      "metadata": {
        "colab": {
          "base_uri": "https://localhost:8080/",
          "height": 455
        },
        "id": "W1ovrnPOZwfq",
        "outputId": "6d307d4f-9075-4b9d-fdf7-c21cbddf7996"
      },
      "source": [
        "length= len(data)\n",
        "length\n"
      ],
      "execution_count": 415,
      "outputs": [
        {
          "output_type": "execute_result",
          "data": {
            "text/html": [
              "<div>\n",
              "<style scoped>\n",
              "    .dataframe tbody tr th:only-of-type {\n",
              "        vertical-align: middle;\n",
              "    }\n",
              "\n",
              "    .dataframe tbody tr th {\n",
              "        vertical-align: top;\n",
              "    }\n",
              "\n",
              "    .dataframe thead th {\n",
              "        text-align: right;\n",
              "    }\n",
              "</style>\n",
              "<table border=\"1\" class=\"dataframe\">\n",
              "  <thead>\n",
              "    <tr style=\"text-align: right;\">\n",
              "      <th></th>\n",
              "      <th>Weighted_Price</th>\n",
              "    </tr>\n",
              "    <tr>\n",
              "      <th>Timestamp</th>\n",
              "      <th></th>\n",
              "    </tr>\n",
              "  </thead>\n",
              "  <tbody>\n",
              "    <tr>\n",
              "      <th>2011-12-31</th>\n",
              "      <td>4.476259</td>\n",
              "    </tr>\n",
              "    <tr>\n",
              "      <th>2012-01-01</th>\n",
              "      <td>4.690833</td>\n",
              "    </tr>\n",
              "    <tr>\n",
              "      <th>2012-01-02</th>\n",
              "      <td>5.000000</td>\n",
              "    </tr>\n",
              "    <tr>\n",
              "      <th>2012-01-03</th>\n",
              "      <td>5.146146</td>\n",
              "    </tr>\n",
              "    <tr>\n",
              "      <th>2012-01-04</th>\n",
              "      <td>5.198247</td>\n",
              "    </tr>\n",
              "    <tr>\n",
              "      <th>...</th>\n",
              "      <td>...</td>\n",
              "    </tr>\n",
              "    <tr>\n",
              "      <th>2021-03-27</th>\n",
              "      <td>55192.101364</td>\n",
              "    </tr>\n",
              "    <tr>\n",
              "      <th>2021-03-28</th>\n",
              "      <td>55833.833794</td>\n",
              "    </tr>\n",
              "    <tr>\n",
              "      <th>2021-03-29</th>\n",
              "      <td>56910.440423</td>\n",
              "    </tr>\n",
              "    <tr>\n",
              "      <th>2021-03-30</th>\n",
              "      <td>58346.194943</td>\n",
              "    </tr>\n",
              "    <tr>\n",
              "      <th>2021-03-31</th>\n",
              "      <td>58764.349363</td>\n",
              "    </tr>\n",
              "  </tbody>\n",
              "</table>\n",
              "<p>3379 rows × 1 columns</p>\n",
              "</div>"
            ],
            "text/plain": [
              "            Weighted_Price\n",
              "Timestamp                 \n",
              "2011-12-31        4.476259\n",
              "2012-01-01        4.690833\n",
              "2012-01-02        5.000000\n",
              "2012-01-03        5.146146\n",
              "2012-01-04        5.198247\n",
              "...                    ...\n",
              "2021-03-27    55192.101364\n",
              "2021-03-28    55833.833794\n",
              "2021-03-29    56910.440423\n",
              "2021-03-30    58346.194943\n",
              "2021-03-31    58764.349363\n",
              "\n",
              "[3379 rows x 1 columns]"
            ]
          },
          "metadata": {
            "tags": []
          },
          "execution_count": 415
        }
      ]
    },
    {
      "cell_type": "code",
      "metadata": {
        "id": "4UKJ4rdNafBl"
      },
      "source": [
        "#daily\n",
        "train_data_d=data[:int(0.95*length)]\n",
        "test_data_d=data[int(0.95*length):]"
      ],
      "execution_count": 416,
      "outputs": []
    },
    {
      "cell_type": "code",
      "metadata": {
        "colab": {
          "base_uri": "https://localhost:8080/",
          "height": 1000
        },
        "id": "zFsLcM1ea-gu",
        "outputId": "1ec4c4cf-9df1-4a29-f089-8620eeb42657"
      },
      "source": [
        "train_data_d.tail(50)"
      ],
      "execution_count": 417,
      "outputs": [
        {
          "output_type": "execute_result",
          "data": {
            "text/html": [
              "<div>\n",
              "<style scoped>\n",
              "    .dataframe tbody tr th:only-of-type {\n",
              "        vertical-align: middle;\n",
              "    }\n",
              "\n",
              "    .dataframe tbody tr th {\n",
              "        vertical-align: top;\n",
              "    }\n",
              "\n",
              "    .dataframe thead th {\n",
              "        text-align: right;\n",
              "    }\n",
              "</style>\n",
              "<table border=\"1\" class=\"dataframe\">\n",
              "  <thead>\n",
              "    <tr style=\"text-align: right;\">\n",
              "      <th></th>\n",
              "      <th>Weighted_Price</th>\n",
              "    </tr>\n",
              "    <tr>\n",
              "      <th>Timestamp</th>\n",
              "      <th></th>\n",
              "    </tr>\n",
              "  </thead>\n",
              "  <tbody>\n",
              "    <tr>\n",
              "      <th>2020-10-11 01:00:00</th>\n",
              "      <td>11330.405134</td>\n",
              "    </tr>\n",
              "    <tr>\n",
              "      <th>2020-10-11 02:00:00</th>\n",
              "      <td>11358.656272</td>\n",
              "    </tr>\n",
              "    <tr>\n",
              "      <th>2020-10-11 03:00:00</th>\n",
              "      <td>11336.009986</td>\n",
              "    </tr>\n",
              "    <tr>\n",
              "      <th>2020-10-11 04:00:00</th>\n",
              "      <td>11323.884501</td>\n",
              "    </tr>\n",
              "    <tr>\n",
              "      <th>2020-10-11 05:00:00</th>\n",
              "      <td>11327.693781</td>\n",
              "    </tr>\n",
              "    <tr>\n",
              "      <th>2020-10-11 06:00:00</th>\n",
              "      <td>11352.340292</td>\n",
              "    </tr>\n",
              "    <tr>\n",
              "      <th>2020-10-11 07:00:00</th>\n",
              "      <td>11359.738636</td>\n",
              "    </tr>\n",
              "    <tr>\n",
              "      <th>2020-10-11 08:00:00</th>\n",
              "      <td>11352.900548</td>\n",
              "    </tr>\n",
              "    <tr>\n",
              "      <th>2020-10-11 09:00:00</th>\n",
              "      <td>11346.306542</td>\n",
              "    </tr>\n",
              "    <tr>\n",
              "      <th>2020-10-11 10:00:00</th>\n",
              "      <td>11363.133144</td>\n",
              "    </tr>\n",
              "    <tr>\n",
              "      <th>2020-10-11 11:00:00</th>\n",
              "      <td>11375.713087</td>\n",
              "    </tr>\n",
              "    <tr>\n",
              "      <th>2020-10-11 12:00:00</th>\n",
              "      <td>11367.268972</td>\n",
              "    </tr>\n",
              "    <tr>\n",
              "      <th>2020-10-11 13:00:00</th>\n",
              "      <td>11367.125614</td>\n",
              "    </tr>\n",
              "    <tr>\n",
              "      <th>2020-10-11 14:00:00</th>\n",
              "      <td>11384.589014</td>\n",
              "    </tr>\n",
              "    <tr>\n",
              "      <th>2020-10-11 15:00:00</th>\n",
              "      <td>11410.974251</td>\n",
              "    </tr>\n",
              "    <tr>\n",
              "      <th>2020-10-11 16:00:00</th>\n",
              "      <td>11406.156010</td>\n",
              "    </tr>\n",
              "    <tr>\n",
              "      <th>2020-10-11 17:00:00</th>\n",
              "      <td>11412.207229</td>\n",
              "    </tr>\n",
              "    <tr>\n",
              "      <th>2020-10-11 18:00:00</th>\n",
              "      <td>11410.999523</td>\n",
              "    </tr>\n",
              "    <tr>\n",
              "      <th>2020-10-11 19:00:00</th>\n",
              "      <td>11380.141262</td>\n",
              "    </tr>\n",
              "    <tr>\n",
              "      <th>2020-10-11 20:00:00</th>\n",
              "      <td>11349.667674</td>\n",
              "    </tr>\n",
              "    <tr>\n",
              "      <th>2020-10-11 21:00:00</th>\n",
              "      <td>11316.475506</td>\n",
              "    </tr>\n",
              "    <tr>\n",
              "      <th>2020-10-11 22:00:00</th>\n",
              "      <td>11336.903779</td>\n",
              "    </tr>\n",
              "    <tr>\n",
              "      <th>2020-10-11 23:00:00</th>\n",
              "      <td>11372.658674</td>\n",
              "    </tr>\n",
              "    <tr>\n",
              "      <th>2020-10-12 00:00:00</th>\n",
              "      <td>11368.503837</td>\n",
              "    </tr>\n",
              "    <tr>\n",
              "      <th>2020-10-12 01:00:00</th>\n",
              "      <td>11385.048228</td>\n",
              "    </tr>\n",
              "    <tr>\n",
              "      <th>2020-10-12 02:00:00</th>\n",
              "      <td>11389.963256</td>\n",
              "    </tr>\n",
              "    <tr>\n",
              "      <th>2020-10-12 03:00:00</th>\n",
              "      <td>11396.507490</td>\n",
              "    </tr>\n",
              "    <tr>\n",
              "      <th>2020-10-12 04:00:00</th>\n",
              "      <td>11384.364386</td>\n",
              "    </tr>\n",
              "    <tr>\n",
              "      <th>2020-10-12 05:00:00</th>\n",
              "      <td>11400.247789</td>\n",
              "    </tr>\n",
              "    <tr>\n",
              "      <th>2020-10-12 06:00:00</th>\n",
              "      <td>11371.257164</td>\n",
              "    </tr>\n",
              "    <tr>\n",
              "      <th>2020-10-12 07:00:00</th>\n",
              "      <td>11371.682443</td>\n",
              "    </tr>\n",
              "    <tr>\n",
              "      <th>2020-10-12 08:00:00</th>\n",
              "      <td>11374.848334</td>\n",
              "    </tr>\n",
              "    <tr>\n",
              "      <th>2020-10-12 09:00:00</th>\n",
              "      <td>11356.546011</td>\n",
              "    </tr>\n",
              "    <tr>\n",
              "      <th>2020-10-12 10:00:00</th>\n",
              "      <td>11323.905969</td>\n",
              "    </tr>\n",
              "    <tr>\n",
              "      <th>2020-10-12 11:00:00</th>\n",
              "      <td>11259.427322</td>\n",
              "    </tr>\n",
              "    <tr>\n",
              "      <th>2020-10-12 12:00:00</th>\n",
              "      <td>11275.441708</td>\n",
              "    </tr>\n",
              "    <tr>\n",
              "      <th>2020-10-12 13:00:00</th>\n",
              "      <td>11366.091518</td>\n",
              "    </tr>\n",
              "    <tr>\n",
              "      <th>2020-10-12 14:00:00</th>\n",
              "      <td>11481.745341</td>\n",
              "    </tr>\n",
              "    <tr>\n",
              "      <th>2020-10-12 15:00:00</th>\n",
              "      <td>11521.689175</td>\n",
              "    </tr>\n",
              "    <tr>\n",
              "      <th>2020-10-12 16:00:00</th>\n",
              "      <td>11567.343315</td>\n",
              "    </tr>\n",
              "    <tr>\n",
              "      <th>2020-10-12 17:00:00</th>\n",
              "      <td>11552.359137</td>\n",
              "    </tr>\n",
              "    <tr>\n",
              "      <th>2020-10-12 18:00:00</th>\n",
              "      <td>11560.700311</td>\n",
              "    </tr>\n",
              "    <tr>\n",
              "      <th>2020-10-12 19:00:00</th>\n",
              "      <td>11563.967334</td>\n",
              "    </tr>\n",
              "    <tr>\n",
              "      <th>2020-10-12 20:00:00</th>\n",
              "      <td>11565.053739</td>\n",
              "    </tr>\n",
              "    <tr>\n",
              "      <th>2020-10-12 21:00:00</th>\n",
              "      <td>11638.053170</td>\n",
              "    </tr>\n",
              "    <tr>\n",
              "      <th>2020-10-12 22:00:00</th>\n",
              "      <td>11683.105817</td>\n",
              "    </tr>\n",
              "    <tr>\n",
              "      <th>2020-10-12 23:00:00</th>\n",
              "      <td>11565.198074</td>\n",
              "    </tr>\n",
              "    <tr>\n",
              "      <th>2020-10-13 00:00:00</th>\n",
              "      <td>11510.171071</td>\n",
              "    </tr>\n",
              "    <tr>\n",
              "      <th>2020-10-13 01:00:00</th>\n",
              "      <td>11486.062837</td>\n",
              "    </tr>\n",
              "    <tr>\n",
              "      <th>2020-10-13 02:00:00</th>\n",
              "      <td>11488.583673</td>\n",
              "    </tr>\n",
              "  </tbody>\n",
              "</table>\n",
              "</div>"
            ],
            "text/plain": [
              "                     Weighted_Price\n",
              "Timestamp                          \n",
              "2020-10-11 01:00:00    11330.405134\n",
              "2020-10-11 02:00:00    11358.656272\n",
              "2020-10-11 03:00:00    11336.009986\n",
              "2020-10-11 04:00:00    11323.884501\n",
              "2020-10-11 05:00:00    11327.693781\n",
              "2020-10-11 06:00:00    11352.340292\n",
              "2020-10-11 07:00:00    11359.738636\n",
              "2020-10-11 08:00:00    11352.900548\n",
              "2020-10-11 09:00:00    11346.306542\n",
              "2020-10-11 10:00:00    11363.133144\n",
              "2020-10-11 11:00:00    11375.713087\n",
              "2020-10-11 12:00:00    11367.268972\n",
              "2020-10-11 13:00:00    11367.125614\n",
              "2020-10-11 14:00:00    11384.589014\n",
              "2020-10-11 15:00:00    11410.974251\n",
              "2020-10-11 16:00:00    11406.156010\n",
              "2020-10-11 17:00:00    11412.207229\n",
              "2020-10-11 18:00:00    11410.999523\n",
              "2020-10-11 19:00:00    11380.141262\n",
              "2020-10-11 20:00:00    11349.667674\n",
              "2020-10-11 21:00:00    11316.475506\n",
              "2020-10-11 22:00:00    11336.903779\n",
              "2020-10-11 23:00:00    11372.658674\n",
              "2020-10-12 00:00:00    11368.503837\n",
              "2020-10-12 01:00:00    11385.048228\n",
              "2020-10-12 02:00:00    11389.963256\n",
              "2020-10-12 03:00:00    11396.507490\n",
              "2020-10-12 04:00:00    11384.364386\n",
              "2020-10-12 05:00:00    11400.247789\n",
              "2020-10-12 06:00:00    11371.257164\n",
              "2020-10-12 07:00:00    11371.682443\n",
              "2020-10-12 08:00:00    11374.848334\n",
              "2020-10-12 09:00:00    11356.546011\n",
              "2020-10-12 10:00:00    11323.905969\n",
              "2020-10-12 11:00:00    11259.427322\n",
              "2020-10-12 12:00:00    11275.441708\n",
              "2020-10-12 13:00:00    11366.091518\n",
              "2020-10-12 14:00:00    11481.745341\n",
              "2020-10-12 15:00:00    11521.689175\n",
              "2020-10-12 16:00:00    11567.343315\n",
              "2020-10-12 17:00:00    11552.359137\n",
              "2020-10-12 18:00:00    11560.700311\n",
              "2020-10-12 19:00:00    11563.967334\n",
              "2020-10-12 20:00:00    11565.053739\n",
              "2020-10-12 21:00:00    11638.053170\n",
              "2020-10-12 22:00:00    11683.105817\n",
              "2020-10-12 23:00:00    11565.198074\n",
              "2020-10-13 00:00:00    11510.171071\n",
              "2020-10-13 01:00:00    11486.062837\n",
              "2020-10-13 02:00:00    11488.583673"
            ]
          },
          "metadata": {
            "tags": []
          },
          "execution_count": 417
        }
      ]
    },
    {
      "cell_type": "code",
      "metadata": {
        "id": "q7lYF3wCbRGX"
      },
      "source": [
        "from sklearn.preprocessing import MinMaxScaler\n",
        "scaler = MinMaxScaler()"
      ],
      "execution_count": 418,
      "outputs": []
    },
    {
      "cell_type": "code",
      "metadata": {
        "id": "49aYSJvMjlPq"
      },
      "source": [
        "scaler.fit(train_data_d)\n",
        "scaled_train_data_d = scaler.transform(train_data_d)\n",
        "scaled_test_data_d = scaler.transform(test_data_d)"
      ],
      "execution_count": 419,
      "outputs": []
    },
    {
      "cell_type": "code",
      "metadata": {
        "id": "k7YM0oubjv7X"
      },
      "source": [
        "from keras.preprocessing.sequence import TimeseriesGenerator\n",
        "\n",
        "n_input = 6\n",
        "n_features= 1\n",
        "generator = TimeseriesGenerator(scaled_train_data_d, scaled_train_data_d, length=n_input, batch_size=64)"
      ],
      "execution_count": 425,
      "outputs": []
    },
    {
      "cell_type": "code",
      "metadata": {
        "id": "WyW93wRPj0q6"
      },
      "source": [
        "def LSTM_model():\n",
        "    \n",
        "    model = Sequential()    \n",
        "    model.add(LSTM(units = 50, return_sequences = True, input_shape = (n_input,1)))\n",
        "    model.add(Dropout(0.2))\n",
        "    model.add(LSTM(units = 50, return_sequences = True))\n",
        "    model.add(Dropout(0.2))\n",
        "    model.add(LSTM(units = 50))\n",
        "    model.add(Dropout(0.2))\n",
        "    model.add(Dense(units=1))\n",
        "    \n",
        "    return model"
      ],
      "execution_count": 426,
      "outputs": []
    },
    {
      "cell_type": "code",
      "metadata": {
        "colab": {
          "base_uri": "https://localhost:8080/"
        },
        "id": "CzQoqG8Sj7Jk",
        "outputId": "336d91e6-db11-4dd8-a93c-d144ec60448a"
      },
      "source": [
        "model = LSTM_model()\n",
        "model.summary()\n",
        "model.compile(optimizer='adam', loss='mean_squared_error')"
      ],
      "execution_count": 427,
      "outputs": [
        {
          "output_type": "stream",
          "text": [
            "Model: \"sequential_12\"\n",
            "_________________________________________________________________\n",
            "Layer (type)                 Output Shape              Param #   \n",
            "=================================================================\n",
            "lstm_34 (LSTM)               (None, 6, 50)             10400     \n",
            "_________________________________________________________________\n",
            "dropout_33 (Dropout)         (None, 6, 50)             0         \n",
            "_________________________________________________________________\n",
            "lstm_35 (LSTM)               (None, 6, 50)             20200     \n",
            "_________________________________________________________________\n",
            "dropout_34 (Dropout)         (None, 6, 50)             0         \n",
            "_________________________________________________________________\n",
            "lstm_36 (LSTM)               (None, 50)                20200     \n",
            "_________________________________________________________________\n",
            "dropout_35 (Dropout)         (None, 50)                0         \n",
            "_________________________________________________________________\n",
            "dense_11 (Dense)             (None, 1)                 51        \n",
            "=================================================================\n",
            "Total params: 50,851\n",
            "Trainable params: 50,851\n",
            "Non-trainable params: 0\n",
            "_________________________________________________________________\n"
          ],
          "name": "stdout"
        }
      ]
    },
    {
      "cell_type": "code",
      "metadata": {
        "id": "GAkPabC2kTJe"
      },
      "source": [
        "checkpointer = ModelCheckpoint(filepath = 'weights_best.hdf5', verbose = 1, save_best_only = True)\n"
      ],
      "execution_count": 389,
      "outputs": []
    },
    {
      "cell_type": "code",
      "metadata": {
        "colab": {
          "base_uri": "https://localhost:8080/"
        },
        "id": "KPosU6c2ljVS",
        "outputId": "08064700-b5e5-4600-dcd2-9b7909076e13"
      },
      "source": [
        "model.fit_generator(generator, epochs=10)"
      ],
      "execution_count": 428,
      "outputs": [
        {
          "output_type": "stream",
          "text": [
            "Epoch 1/10\n",
            "1204/1204 [==============================] - 22s 15ms/step - loss: 0.0044\n",
            "Epoch 2/10\n",
            "1204/1204 [==============================] - 18s 15ms/step - loss: 9.3774e-04\n",
            "Epoch 3/10\n",
            "1204/1204 [==============================] - 18s 15ms/step - loss: 8.0692e-04\n",
            "Epoch 4/10\n",
            "1204/1204 [==============================] - 18s 15ms/step - loss: 5.4285e-04\n",
            "Epoch 5/10\n",
            "1204/1204 [==============================] - 18s 15ms/step - loss: 5.6445e-04\n",
            "Epoch 6/10\n",
            "1204/1204 [==============================] - 18s 15ms/step - loss: 4.7712e-04\n",
            "Epoch 7/10\n",
            "1204/1204 [==============================] - 18s 15ms/step - loss: 8.2090e-04\n",
            "Epoch 8/10\n",
            "1204/1204 [==============================] - 17s 14ms/step - loss: 4.7176e-04\n",
            "Epoch 9/10\n",
            "1204/1204 [==============================] - 17s 14ms/step - loss: 5.4371e-04\n",
            "Epoch 10/10\n",
            "1204/1204 [==============================] - 17s 14ms/step - loss: 4.8840e-04\n"
          ],
          "name": "stdout"
        },
        {
          "output_type": "execute_result",
          "data": {
            "text/plain": [
              "<tensorflow.python.keras.callbacks.History at 0x7fee6a6e3cd0>"
            ]
          },
          "metadata": {
            "tags": []
          },
          "execution_count": 428
        }
      ]
    },
    {
      "cell_type": "code",
      "metadata": {
        "colab": {
          "base_uri": "https://localhost:8080/",
          "height": 265
        },
        "id": "DrQfFNHQl1ah",
        "outputId": "f70f6a16-1a14-473e-c102-132586552659"
      },
      "source": [
        "losses_lstm = model.history.history['loss']\n",
        "plt.figure(figsize=(12,4))\n",
        "plt.xticks(np.arange(0,21,1))\n",
        "plt.plot(range(len(losses_lstm)),losses_lstm);"
      ],
      "execution_count": 429,
      "outputs": [
        {
          "output_type": "display_data",
          "data": {
            "image/png": "[encoded data removed]",
            "text/plain": [
              "<Figure size 864x288 with 1 Axes>"
            ]
          },
          "metadata": {
            "tags": [],
            "needs_background": "light"
          }
        }
      ]
    },
    {
      "cell_type": "code",
      "metadata": {
        "id": "DZUCqqhfnvs8"
      },
      "source": [
        "lstm_predictions_scaled = list()\n",
        "\n",
        "batch = scaled_train_data_d[-n_input:]\n",
        "current_batch = batch.reshape((1, n_input, n_features))\n",
        "\n",
        "for i in range(len(test_data_d)):   \n",
        "    lstm_pred = model.predict(current_batch)[0]\n",
        "    lstm_predictions_scaled.append(lstm_pred) \n",
        "    current_batch = np.append(current_batch[:,1:,:],[[lstm_pred]],axis=1)"
      ],
      "execution_count": 430,
      "outputs": []
    },
    {
      "cell_type": "code",
      "metadata": {
        "id": "uEwlBrlUovwb"
      },
      "source": [
        "\n",
        "batch = scaled_train_data_d[-n_input:]\n",
        "current_batch = batch.reshape((1, n_input, 1))"
      ],
      "execution_count": 431,
      "outputs": []
    },
    {
      "cell_type": "code",
      "metadata": {
        "id": "hIEhqvwgo8QL"
      },
      "source": [
        "lstm_predictions = scaler.inverse_transform(lstm_predictions_scaled)"
      ],
      "execution_count": 432,
      "outputs": []
    },
    {
      "cell_type": "code",
      "metadata": {
        "id": "Z5N3riaEpBAm"
      },
      "source": [
        "test_data_d['LSTM_Predictions'] = lstm_predictions"
      ],
      "execution_count": 433,
      "outputs": []
    },
    {
      "cell_type": "code",
      "metadata": {
        "colab": {
          "base_uri": "https://localhost:8080/",
          "height": 455
        },
        "id": "sYQOhAmwpJPf",
        "outputId": "171c849b-1d42-4bea-b87c-55648ee0b82c"
      },
      "source": [
        "test_data_d"
      ],
      "execution_count": 434,
      "outputs": [
        {
          "output_type": "execute_result",
          "data": {
            "text/html": [
              "<div>\n",
              "<style scoped>\n",
              "    .dataframe tbody tr th:only-of-type {\n",
              "        vertical-align: middle;\n",
              "    }\n",
              "\n",
              "    .dataframe tbody tr th {\n",
              "        vertical-align: top;\n",
              "    }\n",
              "\n",
              "    .dataframe thead th {\n",
              "        text-align: right;\n",
              "    }\n",
              "</style>\n",
              "<table border=\"1\" class=\"dataframe\">\n",
              "  <thead>\n",
              "    <tr style=\"text-align: right;\">\n",
              "      <th></th>\n",
              "      <th>Weighted_Price</th>\n",
              "      <th>LSTM_Predictions</th>\n",
              "    </tr>\n",
              "    <tr>\n",
              "      <th>Timestamp</th>\n",
              "      <th></th>\n",
              "      <th></th>\n",
              "    </tr>\n",
              "  </thead>\n",
              "  <tbody>\n",
              "    <tr>\n",
              "      <th>2020-10-13 03:00:00</th>\n",
              "      <td>11466.171194</td>\n",
              "      <td>10073.123869</td>\n",
              "    </tr>\n",
              "    <tr>\n",
              "      <th>2020-10-13 04:00:00</th>\n",
              "      <td>11473.959342</td>\n",
              "      <td>9939.736757</td>\n",
              "    </tr>\n",
              "    <tr>\n",
              "      <th>2020-10-13 05:00:00</th>\n",
              "      <td>11505.297728</td>\n",
              "      <td>9678.881482</td>\n",
              "    </tr>\n",
              "    <tr>\n",
              "      <th>2020-10-13 06:00:00</th>\n",
              "      <td>11486.895885</td>\n",
              "      <td>9337.998254</td>\n",
              "    </tr>\n",
              "    <tr>\n",
              "      <th>2020-10-13 07:00:00</th>\n",
              "      <td>11460.409157</td>\n",
              "      <td>8968.071773</td>\n",
              "    </tr>\n",
              "    <tr>\n",
              "      <th>...</th>\n",
              "      <td>...</td>\n",
              "      <td>...</td>\n",
              "    </tr>\n",
              "    <tr>\n",
              "      <th>2021-03-30 20:00:00</th>\n",
              "      <td>58682.385127</td>\n",
              "      <td>2266.888623</td>\n",
              "    </tr>\n",
              "    <tr>\n",
              "      <th>2021-03-30 21:00:00</th>\n",
              "      <td>58705.094588</td>\n",
              "      <td>2266.888623</td>\n",
              "    </tr>\n",
              "    <tr>\n",
              "      <th>2021-03-30 22:00:00</th>\n",
              "      <td>58788.454429</td>\n",
              "      <td>2266.888623</td>\n",
              "    </tr>\n",
              "    <tr>\n",
              "      <th>2021-03-30 23:00:00</th>\n",
              "      <td>58666.750127</td>\n",
              "      <td>2266.888623</td>\n",
              "    </tr>\n",
              "    <tr>\n",
              "      <th>2021-03-31 00:00:00</th>\n",
              "      <td>58764.349363</td>\n",
              "      <td>2266.888623</td>\n",
              "    </tr>\n",
              "  </tbody>\n",
              "</table>\n",
              "<p>4054 rows × 2 columns</p>\n",
              "</div>"
            ],
            "text/plain": [
              "                     Weighted_Price  LSTM_Predictions\n",
              "Timestamp                                            \n",
              "2020-10-13 03:00:00    11466.171194      10073.123869\n",
              "2020-10-13 04:00:00    11473.959342       9939.736757\n",
              "2020-10-13 05:00:00    11505.297728       9678.881482\n",
              "2020-10-13 06:00:00    11486.895885       9337.998254\n",
              "2020-10-13 07:00:00    11460.409157       8968.071773\n",
              "...                             ...               ...\n",
              "2021-03-30 20:00:00    58682.385127       2266.888623\n",
              "2021-03-30 21:00:00    58705.094588       2266.888623\n",
              "2021-03-30 22:00:00    58788.454429       2266.888623\n",
              "2021-03-30 23:00:00    58666.750127       2266.888623\n",
              "2021-03-31 00:00:00    58764.349363       2266.888623\n",
              "\n",
              "[4054 rows x 2 columns]"
            ]
          },
          "metadata": {
            "tags": []
          },
          "execution_count": 434
        }
      ]
    },
    {
      "cell_type": "code",
      "metadata": {
        "colab": {
          "base_uri": "https://localhost:8080/",
          "height": 345
        },
        "id": "XYN49s54pKkr",
        "outputId": "96058757-c046-4da4-802d-5653f478b5d8"
      },
      "source": [
        "test_data_d['Weighted_Price'].plot(figsize = (16,5), legend=True)\n",
        "test_data_d['LSTM_Predictions'].plot(legend = True);"
      ],
      "execution_count": 435,
      "outputs": [
        {
          "output_type": "display_data",
          "data": {
            "image/png": "[encoded data removed]",
            "text/plain": [
              "<Figure size 1152x360 with 1 Axes>"
            ]
          },
          "metadata": {
            "tags": [],
            "needs_background": "light"
          }
        }
      ]
    },
    {
      "cell_type": "code",
      "metadata": {
        "id": "y4JrsHqUpX2C"
      },
      "source": [
        "df= pd.read_csv(\"/content/drive/MyDrive/bitstampUSD_1-min_data_2012-01-01_to_2021-03-31.csv\")"
      ],
      "execution_count": 436,
      "outputs": []
    },
    {
      "cell_type": "code",
      "metadata": {
        "colab": {
          "base_uri": "https://localhost:8080/"
        },
        "id": "iCPwpIfG9HQB",
        "outputId": "2730faab-278d-4c84-9e45-aa653bcce376"
      },
      "source": [
        "df[\"date\"]=pd.to_datetime(df[\"Timestamp\"],unit=\"s\").dt.date\n",
        "group=df.groupby(\"date\")\n",
        "df=group[\"Close\"].mean()\n",
        "df.isnull().sum()"
      ],
      "execution_count": 437,
      "outputs": [
        {
          "output_type": "execute_result",
          "data": {
            "text/plain": [
              "0"
            ]
          },
          "metadata": {
            "tags": []
          },
          "execution_count": 437
        }
      ]
    },
    {
      "cell_type": "code",
      "metadata": {
        "id": "eOJayXR-9Lir"
      },
      "source": [
        "close_train=df.iloc[:len(df)-50]\n",
        "close_test=df.iloc[len(close_train):]"
      ],
      "execution_count": 438,
      "outputs": []
    },
    {
      "cell_type": "code",
      "metadata": {
        "id": "P06skNCp9PV-"
      },
      "source": [
        "close_train=np.array(close_train)\n",
        "close_train=close_train.reshape(close_train.shape[0],1)\n",
        "\n",
        "from sklearn.preprocessing import MinMaxScaler\n",
        "\n",
        "scaler=MinMaxScaler(feature_range=(0,1))\n",
        "close_scaled=scaler.fit_transform(close_train)"
      ],
      "execution_count": 439,
      "outputs": []
    },
    {
      "cell_type": "code",
      "metadata": {
        "colab": {
          "base_uri": "https://localhost:8080/"
        },
        "id": "vAkINjNy9SXU",
        "outputId": "72d9608c-5281-4ef4-f0f2-38b26f40d9f6"
      },
      "source": [
        "timestep=50\n",
        "x_train=[]\n",
        "y_train=[]\n",
        "\n",
        "for i in range(timestep,close_scaled.shape[0]):\n",
        "    x_train.append(close_scaled[i-timestep:i,0])\n",
        "    y_train.append(close_scaled[i,0])\n",
        "\n",
        "x_train,y_train=np.array(x_train),np.array(y_train)\n",
        "x_train=x_train.reshape(x_train.shape[0],x_train.shape[1],1) #reshaped for RNN\n",
        "print(\"x_train shape= \",x_train.shape)\n",
        "print(\"y_train shape= \",y_train.shape)"
      ],
      "execution_count": 440,
      "outputs": [
        {
          "output_type": "stream",
          "text": [
            "x_train shape=  (3276, 50, 1)\n",
            "y_train shape=  (3276,)\n"
          ],
          "name": "stdout"
        }
      ]
    },
    {
      "cell_type": "code",
      "metadata": {
        "id": "qt16a9bD9UrL"
      },
      "source": [
        ""
      ],
      "execution_count": null,
      "outputs": []
    }
  ]
}